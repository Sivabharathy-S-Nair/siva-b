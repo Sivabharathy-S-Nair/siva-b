{
 "cells": [
  {
   "cell_type": "code",
   "execution_count": 1,
   "id": "4460dcfb",
   "metadata": {},
   "outputs": [],
   "source": [
    "import numpy as np"
   ]
  },
  {
   "cell_type": "code",
   "execution_count": 2,
   "id": "2e6722d7",
   "metadata": {},
   "outputs": [],
   "source": [
    "z=np.array([11,44,55,77])"
   ]
  },
  {
   "cell_type": "code",
   "execution_count": 3,
   "id": "b79f40f9",
   "metadata": {},
   "outputs": [
    {
     "data": {
      "text/plain": [
       "array([11, 44, 55, 77])"
      ]
     },
     "execution_count": 3,
     "metadata": {},
     "output_type": "execute_result"
    }
   ],
   "source": [
    "z"
   ]
  },
  {
   "cell_type": "code",
   "execution_count": 4,
   "id": "bc4ca238",
   "metadata": {},
   "outputs": [
    {
     "name": "stdout",
     "output_type": "stream",
     "text": [
      "[11 44 55 77]\n"
     ]
    }
   ],
   "source": [
    "print(z)"
   ]
  },
  {
   "cell_type": "code",
   "execution_count": 5,
   "id": "f70f9e09",
   "metadata": {},
   "outputs": [
    {
     "name": "stdout",
     "output_type": "stream",
     "text": [
      "55\n"
     ]
    }
   ],
   "source": [
    "print(z[2])"
   ]
  },
  {
   "cell_type": "code",
   "execution_count": 6,
   "id": "c051216a",
   "metadata": {},
   "outputs": [],
   "source": [
    "z1=np.array([[11,44,55,77],[67,244,553,747]])"
   ]
  },
  {
   "cell_type": "code",
   "execution_count": 7,
   "id": "7b6e481f",
   "metadata": {},
   "outputs": [
    {
     "name": "stdout",
     "output_type": "stream",
     "text": [
      "55\n"
     ]
    }
   ],
   "source": [
    "print(z1[0,2])"
   ]
  },
  {
   "cell_type": "code",
   "execution_count": 8,
   "id": "69cc8e57",
   "metadata": {},
   "outputs": [
    {
     "name": "stdout",
     "output_type": "stream",
     "text": [
      "747\n"
     ]
    }
   ],
   "source": [
    "print(z1[1,3])"
   ]
  },
  {
   "cell_type": "code",
   "execution_count": 9,
   "id": "a3d757e5",
   "metadata": {},
   "outputs": [
    {
     "name": "stdout",
     "output_type": "stream",
     "text": [
      "2\n"
     ]
    }
   ],
   "source": [
    "print(z1.ndim)"
   ]
  },
  {
   "cell_type": "code",
   "execution_count": 23,
   "id": "ad4f9710",
   "metadata": {},
   "outputs": [],
   "source": [
    "w=np.array([[[12,13,14],[15,16,17]],[[10,11,12],[9,8,7]]])"
   ]
  },
  {
   "cell_type": "code",
   "execution_count": 27,
   "id": "0086208e",
   "metadata": {},
   "outputs": [
    {
     "name": "stdout",
     "output_type": "stream",
     "text": [
      "17\n"
     ]
    }
   ],
   "source": [
    "print(w[0,1,2])"
   ]
  },
  {
   "cell_type": "code",
   "execution_count": 28,
   "id": "2b4579fb",
   "metadata": {},
   "outputs": [
    {
     "name": "stdout",
     "output_type": "stream",
     "text": [
      "7\n"
     ]
    }
   ],
   "source": [
    "print(w[1,1,2])"
   ]
  },
  {
   "cell_type": "code",
   "execution_count": null,
   "id": "d3a26a13",
   "metadata": {},
   "outputs": [],
   "source": []
  },
  {
   "cell_type": "code",
   "execution_count": null,
   "id": "785bc458",
   "metadata": {},
   "outputs": [],
   "source": []
  }
 ],
 "metadata": {
  "kernelspec": {
   "display_name": "Python 3",
   "language": "python",
   "name": "python3"
  },
  "language_info": {
   "codemirror_mode": {
    "name": "ipython",
    "version": 3
   },
   "file_extension": ".py",
   "mimetype": "text/x-python",
   "name": "python",
   "nbconvert_exporter": "python",
   "pygments_lexer": "ipython3",
   "version": "3.8.8"
  }
 },
 "nbformat": 4,
 "nbformat_minor": 5
}
