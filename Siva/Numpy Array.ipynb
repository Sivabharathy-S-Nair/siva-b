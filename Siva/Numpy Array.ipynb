{
 "cells": [
  {
   "cell_type": "code",
   "execution_count": 1,
   "id": "7d376bcf",
   "metadata": {},
   "outputs": [],
   "source": [
    "import numpy as np"
   ]
  },
  {
   "cell_type": "code",
   "execution_count": 2,
   "id": "05b6cdac",
   "metadata": {},
   "outputs": [],
   "source": [
    "z=np.array([11,44,55,77])"
   ]
  },
  {
   "cell_type": "code",
   "execution_count": 3,
   "id": "0e72cad7",
   "metadata": {},
   "outputs": [
    {
     "name": "stdout",
     "output_type": "stream",
     "text": [
      "[11 44 55 77]\n"
     ]
    }
   ],
   "source": [
    "print(z)"
   ]
  },
  {
   "cell_type": "code",
   "execution_count": 4,
   "id": "bb586fb6",
   "metadata": {},
   "outputs": [],
   "source": [
    "k=np.array((911,44,55,77))"
   ]
  },
  {
   "cell_type": "code",
   "execution_count": 5,
   "id": "0305c22c",
   "metadata": {},
   "outputs": [
    {
     "name": "stdout",
     "output_type": "stream",
     "text": [
      "[911  44  55  77]\n"
     ]
    }
   ],
   "source": [
    "print(k)"
   ]
  },
  {
   "cell_type": "code",
   "execution_count": 6,
   "id": "a25c4b19",
   "metadata": {},
   "outputs": [
    {
     "name": "stdout",
     "output_type": "stream",
     "text": [
      "1\n"
     ]
    }
   ],
   "source": [
    "print(k.ndim)"
   ]
  },
  {
   "cell_type": "code",
   "execution_count": 7,
   "id": "d4aff478",
   "metadata": {},
   "outputs": [
    {
     "name": "stdout",
     "output_type": "stream",
     "text": [
      "1\n"
     ]
    }
   ],
   "source": [
    "print(z.ndim)"
   ]
  },
  {
   "cell_type": "code",
   "execution_count": 11,
   "id": "5d62d197",
   "metadata": {},
   "outputs": [],
   "source": [
    "z1=np.array([[11,44,55,77],[67,244,553,747]])"
   ]
  },
  {
   "cell_type": "code",
   "execution_count": 12,
   "id": "c28fe496",
   "metadata": {},
   "outputs": [
    {
     "name": "stdout",
     "output_type": "stream",
     "text": [
      "2\n"
     ]
    }
   ],
   "source": [
    "print(z1.ndim)"
   ]
  },
  {
   "cell_type": "code",
   "execution_count": 14,
   "id": "f98e0384",
   "metadata": {},
   "outputs": [],
   "source": [
    "z2=np.array([[[11,44,55,77],[67,244,553,747],[67,244,553,747]]])"
   ]
  },
  {
   "cell_type": "code",
   "execution_count": 15,
   "id": "1d9efb0d",
   "metadata": {},
   "outputs": [
    {
     "name": "stdout",
     "output_type": "stream",
     "text": [
      "3\n"
     ]
    }
   ],
   "source": [
    "print(z2.ndim)"
   ]
  },
  {
   "cell_type": "code",
   "execution_count": null,
   "id": "c10c5a47",
   "metadata": {},
   "outputs": [],
   "source": []
  }
 ],
 "metadata": {
  "kernelspec": {
   "display_name": "Python 3",
   "language": "python",
   "name": "python3"
  },
  "language_info": {
   "codemirror_mode": {
    "name": "ipython",
    "version": 3
   },
   "file_extension": ".py",
   "mimetype": "text/x-python",
   "name": "python",
   "nbconvert_exporter": "python",
   "pygments_lexer": "ipython3",
   "version": "3.8.8"
  }
 },
 "nbformat": 4,
 "nbformat_minor": 5
}
